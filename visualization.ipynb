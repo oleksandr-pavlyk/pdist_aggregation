{
 "cells": [
  {
   "cell_type": "code",
   "execution_count": null,
   "id": "8d8a5d09",
   "metadata": {
    "scrolled": true
   },
   "outputs": [],
   "source": [
    "import subprocess\n",
    "import pandas as pd\n",
    "import matplotlib.pyplot as plt\n",
    "import seaborn as sns\n",
    "import numpy as np\n",
    "plt.rcParams['figure.figsize'] = [12, 8]\n",
    "plt.rcParams['figure.dpi'] = 100 # 200 e.g. is really fine, but slower"
   ]
  },
  {
   "cell_type": "code",
   "execution_count": null,
   "id": "challenging-collar",
   "metadata": {},
   "outputs": [],
   "source": [
    "commit = str(subprocess.check_output(['git', 'rev-parse', 'HEAD'])).replace(\"b'\", \"\").replace(\"\\\\n'\", \"\")"
   ]
  },
  {
   "cell_type": "code",
   "execution_count": null,
   "id": "f37eb38d",
   "metadata": {},
   "outputs": [],
   "source": [
    "df = pd.read_csv(\"benchmarks/results_10_trials_7b884.csv\")\n",
    "df.sort_values('throughput', ascending=False)"
   ]
  },
  {
   "cell_type": "code",
   "execution_count": null,
   "id": "894b2e6d",
   "metadata": {},
   "outputs": [],
   "source": [
    "cols = [\"n_samples_train\", \"n_samples_test\", \"n_features\", \"working_memory\"]\n",
    "df[cols] = df[cols].astype(np.uint32)"
   ]
  },
  {
   "cell_type": "code",
   "execution_count": null,
   "id": "efb9c899",
   "metadata": {},
   "outputs": [],
   "source": [
    "df_grouped = df.groupby([\"n_samples_train\", \"n_samples_test\", \"n_features\", \"n_neighbors\"])"
   ]
  },
  {
   "cell_type": "code",
   "execution_count": null,
   "id": "76656411",
   "metadata": {},
   "outputs": [],
   "source": [
    "y_labels = {\n",
    "    \"time_elapsed\": \"Time elapsed (in s)\",\n",
    "    \"throughput\": \"Thoughput (in GB/s)\"\n",
    "}"
   ]
  },
  {
   "cell_type": "code",
   "execution_count": null,
   "id": "6fe52708",
   "metadata": {
    "scrolled": false
   },
   "outputs": [],
   "source": [
    "for vals, df in df_grouped:\n",
    "    fig, axes = plt.subplots(nrows=1, ncols=2, figsize=(20, 10))\n",
    "    axes = axes.flatten()\n",
    "    for col, ax in zip([\"time_elapsed\", \"throughput\"], axes):\n",
    "        _ = sns.barplot(x=\"working_memory\", y=col, hue=\"implementation\", data=df, ax=ax)\n",
    "        _ = ax.set_ylabel(y_labels[col])\n",
    "        _ = ax.set_xlabel(\"Total working memory (in bytes)\")\n",
    "    title = f\"NearestNeighbors@{commit}\" + \" - Euclidean Distance, dtype=np.float64, 10 trials \\n n_samples_train=%s - n_samples_test=%s - n_features=%s - n_neighbors=%s\" % vals\n",
    "    _ = fig.suptitle(title, fontsize=16)\n",
    "    fig.savefig(title.replace(\" - \",\"_\").replace(\"\\n\",\"_\").lower() + \".png\")"
   ]
  },
  {
   "cell_type": "code",
   "execution_count": null,
   "id": "tribal-catalog",
   "metadata": {},
   "outputs": [],
   "source": []
  }
 ],
 "metadata": {
  "kernelspec": {
   "display_name": "Python 3",
   "language": "python",
   "name": "python3"
  },
  "language_info": {
   "codemirror_mode": {
    "name": "ipython",
    "version": 3
   },
   "file_extension": ".py",
   "mimetype": "text/x-python",
   "name": "python",
   "nbconvert_exporter": "python",
   "pygments_lexer": "ipython3",
   "version": "3.8.5"
  }
 },
 "nbformat": 4,
 "nbformat_minor": 5
}
