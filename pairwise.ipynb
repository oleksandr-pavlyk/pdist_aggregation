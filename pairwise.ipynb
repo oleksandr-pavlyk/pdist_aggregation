{
 "cells": [
  {
   "cell_type": "code",
   "execution_count": null,
   "id": "difficult-confirmation",
   "metadata": {
    "scrolled": true
   },
   "outputs": [],
   "source": [
    "import pytest\n",
    "import numpy as np\n",
    "import itertools\n",
    "from matplotlib import pyplot as plt\n",
    "from sklearn.neighbors import NearestNeighbors\n",
    "from sklearnex import patch_sklearn, unpatch_sklearn\n",
    "\n",
    "plt.rcParams['figure.figsize'] = [12, 12]\n",
    "plt.rcParams['figure.dpi'] = 100"
   ]
  },
  {
   "cell_type": "code",
   "execution_count": null,
   "id": "yellow-bottom",
   "metadata": {},
   "outputs": [],
   "source": [
    "%load_ext cython"
   ]
  },
  {
   "cell_type": "code",
   "execution_count": null,
   "id": "settled-wallpaper",
   "metadata": {
    "scrolled": true
   },
   "outputs": [],
   "source": [
    "%%cython -f --compile-args=-fopenmp --link-args=-fopenmp --annotate\n",
    "# cython: profile=False\n",
    "# cython: cdivision=True\n",
    "# cython: boundscheck=False\n",
    "# cython: wraparound=False\n",
    "import numpy as np\n",
    "cimport numpy as np\n",
    "from libc.stdlib cimport malloc, calloc, free\n",
    "from libc.stdio cimport printf\n",
    "from libc.math cimport sqrt\n",
    "from cython.parallel cimport prange, parallel\n",
    "from cython cimport floating, integral\n",
    "\n",
    "# As of now the best size found by tuning\n",
    "DEF CHUNK_SIZE = 4096\n",
    "DEF N_THREADS = 4\n",
    "DEF DEBUG = False\n",
    "DEF INF = 1e19\n",
    "\n",
    "from sklearn.utils._cython_blas cimport _gemm, BLAS_Order, BLAS_Trans\n",
    "from sklearn.utils._cython_blas cimport ColMajor, RowMajor, Trans, NoTrans\n",
    "    \n",
    "cdef void _argmin_chunk(\n",
    "    floating[:, ::1] X_c,            # IN\n",
    "    floating[:, ::1] Y_c,            # IN\n",
    "    floating[::1] Y_sq_norms,        # IN\n",
    "    integral[::1] Z_c_idx,           # OUT  \n",
    "    floating[::1] Z_c_r_dist,        # OUT\n",
    "    floating *pairwise_red_distances,# OUT\n",
    "    integral idx_offset,\n",
    ") nogil:\n",
    "    cdef:\n",
    "# Careful, LDA, LDB and LDC are given for F-ordered arrays.\n",
    "# Here, we use their counterpart values as indicated in the documentation.\n",
    "# See the documentation of parameters here:\n",
    "# https://www.netlib.org/lapack/explore-html/db/dc9/group__single__blas__level3_gafe51bacb54592ff5de056acabd83c260.html\n",
    "        integral i, j\n",
    "        floating r_dist_j\n",
    "        integral M = X_c.shape[0]\n",
    "        integral N = Y_c.shape[0]\n",
    "        integral K = X_c.shape[1]\n",
    "        integral LDA = K\n",
    "        integral LDB = K\n",
    "        integral LDC = N\n",
    "        floating alpha = -2.0\n",
    "        floating beta = 1.0\n",
    "\n",
    "    # Instead of computing the full pairwise squared distances matrix,\n",
    "    # ||X_c - Y_c||² = ||X_c||² - 2 X_c.Y_c^T + ||Y_c||², we only need\n",
    "    # to store the - 2 X_c.Y_c^T + ||Y_c||² term since the argmin\n",
    "    # for a given sample X_c^{i} does not depend on ||X_c^{i}||²\n",
    "    for i in range(X_c.shape[0]):\n",
    "        for j in range(Y_c.shape[0]):\n",
    "            pairwise_red_distances[i * Y_c.shape[0] + j] = Y_sq_norms[j]\n",
    "\n",
    "    # pairwise_distances += -2 * X_c.dot(Y_c.T)\n",
    "    _gemm(RowMajor, NoTrans, Trans,\n",
    "          X_c.shape[0], Y_c.shape[0], X_c.shape[1],\n",
    "          -2.0,\n",
    "          &X_c[0, 0], X_c.shape[1],\n",
    "          &Y_c[0, 0], X_c.shape[1], 1.0,\n",
    "          pairwise_red_distances, Y_c.shape[0])\n",
    "    \n",
    "    # Computing argmins here\n",
    "    for i in range(X_c.shape[0]):\n",
    "        for j in range(Y_c.shape[0]):\n",
    "            if pairwise_red_distances[i * Y_c.shape[0] + j] < Z_c_r_dist[i]:\n",
    "                Z_c_r_dist[i] = pairwise_red_distances[i * Y_c.shape[0] + j] \n",
    "                Z_c_idx[i] = j + idx_offset\n",
    "                \n",
    "                \n",
    "cdef int _pairwise_argmin(\n",
    "    floating[:, ::1] X,              # IN\n",
    "    floating[:, ::1] Y,              # IN\n",
    "    floating[::1] Y_sq_norms,        # IN\n",
    "    integral[::1] Z_idx,             # OUT\n",
    "    floating[::1] Z_r_dist,          # OUT\n",
    "    integral chunk_size,\n",
    ") nogil except -1:\n",
    "    cdef:\n",
    "        integral n_samples_chunk = chunk_size / X.shape[1]\n",
    "        \n",
    "        integral X_n_samples_chunk = min(X.shape[0], n_samples_chunk)\n",
    "        integral X_n_full_chunks = X.shape[0] // X_n_samples_chunk\n",
    "        integral X_n_samples_rem = X.shape[0] % X_n_samples_chunk\n",
    "\n",
    "        integral Y_n_samples_chunk = min(Y.shape[0], n_samples_chunk)\n",
    "        integral Y_n_full_chunks = Y.shape[0] / Y_n_samples_chunk\n",
    "        integral Y_n_samples_rem = Y.shape[0] % Y_n_samples_chunk\n",
    "        \n",
    "        # Counting remainder chunk in total number of chunks\n",
    "        integral X_n_chunks = X_n_full_chunks + (X.shape[0] != (X_n_full_chunks * X_n_samples_chunk))\n",
    "        integral Y_n_chunks = Y_n_full_chunks + (Y.shape[0] != (Y_n_full_chunks * Y_n_samples_chunk))\n",
    "        \n",
    "        integral n_chunks = X_n_chunks * Y_n_chunks\n",
    "        integral num_threads = min(n_chunks, N_THREADS)\n",
    "\n",
    "        integral idx\n",
    "        integral i_chunk = 0\n",
    "        \n",
    "        integral X_start, X_end, Y_start, Y_end\n",
    "        integral X_chunk_idx, Y_chunk_idx\n",
    "                \n",
    "        floating *pairwise_red_distances\n",
    "\n",
    "    IF DEBUG:\n",
    "        printf(\"Using %ld chunk pairs\\nUsing %ld threads\\n\", n_chunks, num_threads)\n",
    "    \n",
    "    with nogil, parallel(num_threads=num_threads):\n",
    "        pairwise_red_distances = <floating*> malloc(Y_n_samples_chunk * X_n_samples_chunk * sizeof(floating))\n",
    "                \n",
    "        for X_chunk_idx in prange(X_n_chunks, schedule='static'):\n",
    "            X_start = X_chunk_idx * X_n_samples_chunk\n",
    "            if X_chunk_idx == X_n_chunks - 1 and X_n_samples_rem > 0:\n",
    "                X_end = X_start + X_n_samples_rem\n",
    "            else:\n",
    "                X_end = X_start + X_n_samples_chunk\n",
    "\n",
    "            for Y_chunk_idx in range(Y_n_chunks):\n",
    "                Y_start = Y_chunk_idx * Y_n_samples_chunk\n",
    "                if Y_chunk_idx == Y_n_chunks - 1 and Y_n_samples_rem > 0:\n",
    "                    Y_end = Y_start + Y_n_samples_rem\n",
    "                else:\n",
    "                    Y_end = Y_start + Y_n_samples_chunk\n",
    "\n",
    "                _argmin_chunk(X[X_start:X_end, :],\n",
    "                              Y[Y_start:Y_end, :],\n",
    "                              Y_sq_norms[Y_start:Y_end],\n",
    "                              Z_idx[X_start:X_end],\n",
    "                              Z_r_dist[X_start:X_end],\n",
    "                              pairwise_red_distances,\n",
    "                              Y_start)\n",
    "                \n",
    "        free(pairwise_red_distances)\n",
    "        \n",
    "    IF DEBUG:\n",
    "        printf(\"Done cdef _pairwise_argmin\\n\\n\")\n",
    "        \n",
    "# Python-accessible interfaces\n",
    "def pairwise_argmin(\n",
    "    floating[:, ::1] X,\n",
    "    floating[:, ::1] Y,\n",
    "    integral chunk_size = CHUNK_SIZE,\n",
    "):\n",
    "    int_dtype = np.int32 if integral is int else np.int64\n",
    "    float_dtype = np.float32 if floating is float else np.float64\n",
    "    cdef:\n",
    "        integral[::1] Z_idx = np.zeros((X.shape[0],), dtype=int_dtype)\n",
    "        floating[::1] Z_r_dist = np.full((X.shape[0],), INF, dtype=float_dtype)\n",
    "        floating[::1] Y_sq_norms = np.einsum('ij,ij->i', Y, Y)\n",
    "    \n",
    "    _pairwise_argmin(X, Y, Y_sq_norms, Z_idx, Z_r_dist, chunk_size)\n",
    "    \n",
    "    return np.asarray(Z_idx)"
   ]
  },
  {
   "cell_type": "markdown",
   "id": "comfortable-campus",
   "metadata": {},
   "source": [
    "### Visual screening for 2D"
   ]
  },
  {
   "cell_type": "code",
   "execution_count": null,
   "id": "characteristic-workstation",
   "metadata": {},
   "outputs": [],
   "source": [
    "X_train = np.random.rand(int(20 * 2)).reshape((-1, 2))\n",
    "X_test = np.copy(X_train[::2, :]) + 0.02"
   ]
  },
  {
   "cell_type": "code",
   "execution_count": null,
   "id": "registered-charlotte",
   "metadata": {},
   "outputs": [],
   "source": [
    "X_train.nbytes / 1e9, X_test.nbytes /1e9"
   ]
  },
  {
   "cell_type": "code",
   "execution_count": null,
   "id": "quality-roller",
   "metadata": {},
   "outputs": [],
   "source": [
    "X_train.shape, X_test.shape"
   ]
  },
  {
   "cell_type": "code",
   "execution_count": null,
   "id": "liquid-desktop",
   "metadata": {},
   "outputs": [],
   "source": [
    "argmins = pairwise_argmin(X_test, X_train, chunk_size = 100)"
   ]
  },
  {
   "cell_type": "code",
   "execution_count": null,
   "id": "grave-meter",
   "metadata": {},
   "outputs": [],
   "source": [
    "argmins"
   ]
  },
  {
   "cell_type": "code",
   "execution_count": null,
   "id": "developmental-conviction",
   "metadata": {},
   "outputs": [],
   "source": [
    "argmins.shape"
   ]
  },
  {
   "cell_type": "code",
   "execution_count": null,
   "id": "incorporate-seven",
   "metadata": {},
   "outputs": [],
   "source": [
    "_ = plt.scatter(X_test[:,0], X_test[:,1])\n",
    "_ = plt.scatter(X_train[:,0], X_train[:,1])\n",
    "_ = plt.legend([\"X_test\", \"X_train\"])\n",
    "\n",
    "for i, j in enumerate(argmins):\n",
    "     _ = plt.plot((X_test[i, 0], X_train[j, 0]),\n",
    "             (X_test[i, 1], X_train[j, 1]),\n",
    "             'g--', linewidth=0.5)\n",
    "    \n",
    "_ = plt.title(\"Argmin for X_test on X_train\")\n",
    "\n",
    "plt.show()"
   ]
  },
  {
   "cell_type": "markdown",
   "id": "veterinary-championship",
   "metadata": {},
   "source": [
    "### Testing for correctness against scikit-learn"
   ]
  },
  {
   "cell_type": "code",
   "execution_count": null,
   "id": "recovered-ticket",
   "metadata": {},
   "outputs": [],
   "source": [
    "@pytest.mark.parametrise(\"n\", [10 ** i for i in [2, 3, 4]])\n",
    "@pytest.mark.parametrise(\"d\", [2, 5, 10, 100])\n",
    "def test_correctness(n, d):\n",
    "    Y = np.random.rand(int(n * d)).reshape((-1, d))\n",
    "    X = np.random.rand(int(n * d // 2)).reshape((-1, d))\n",
    "        \n",
    "    neigh = NearestNeighbors(n_neighbors=1, algorithm='brute')\n",
    "    neigh.fit(Y)\n",
    "    \n",
    "    argmins_sk = neigh.kneighbors(X, return_distance=False)\n",
    "    print(\"Done with neigh.kneighbors\")\n",
    "    argmins = pairwise_argmin(X, Y)\n",
    "    print(\"Done with pairwise_argmin\")\n",
    "\n",
    "    np.testing.assert_array_equal(argmins, np.ndarray.flatten(argmins_sk))\n"
   ]
  },
  {
   "cell_type": "code",
   "execution_count": null,
   "id": "complimentary-nature",
   "metadata": {
    "scrolled": false
   },
   "outputs": [],
   "source": [
    "for n, d in itertools.product([10 ** i for i in [2, 3, 4]], [2, 5, 10, 100]):\n",
    "    print(n, d)\n",
    "    test_correctness(n, d)"
   ]
  },
  {
   "cell_type": "markdown",
   "id": "attractive-intervention",
   "metadata": {},
   "source": [
    "### Comparison against scikit-learn"
   ]
  },
  {
   "cell_type": "code",
   "execution_count": null,
   "id": "polyphonic-cologne",
   "metadata": {},
   "outputs": [],
   "source": [
    "Y = np.random.rand(int(1e6)).reshape((-1, 500))\n",
    "X = np.copy(Y[::2, :]) + 0.02"
   ]
  },
  {
   "cell_type": "code",
   "execution_count": null,
   "id": "stable-quebec",
   "metadata": {},
   "outputs": [],
   "source": [
    "X.nbytes / 1e9, Y.nbytes /1e9"
   ]
  },
  {
   "cell_type": "code",
   "execution_count": null,
   "id": "practical-meaning",
   "metadata": {},
   "outputs": [],
   "source": [
    "X.shape, Y.shape"
   ]
  },
  {
   "cell_type": "code",
   "execution_count": null,
   "id": "greek-channels",
   "metadata": {},
   "outputs": [],
   "source": [
    "neigh = NearestNeighbors(n_neighbors=1, algorithm='brute').fit(Y)"
   ]
  },
  {
   "cell_type": "code",
   "execution_count": null,
   "id": "sharp-theory",
   "metadata": {},
   "outputs": [],
   "source": [
    "%timeit neigh.kneighbors(X, return_distance=False)"
   ]
  },
  {
   "cell_type": "code",
   "execution_count": null,
   "id": "institutional-hungary",
   "metadata": {},
   "outputs": [],
   "source": [
    "%timeit pairwise_argmin(X, Y, chunk_size=512)"
   ]
  },
  {
   "cell_type": "code",
   "execution_count": null,
   "id": "speaking-library",
   "metadata": {
    "scrolled": true
   },
   "outputs": [],
   "source": [
    "%timeit pairwise_argmin(X, Y, chunk_size=1024)"
   ]
  },
  {
   "cell_type": "code",
   "execution_count": null,
   "id": "surface-nigeria",
   "metadata": {},
   "outputs": [],
   "source": [
    "%timeit pairwise_argmin(X, Y, chunk_size=2048)"
   ]
  },
  {
   "cell_type": "code",
   "execution_count": null,
   "id": "cheap-given",
   "metadata": {},
   "outputs": [],
   "source": [
    "%timeit pairwise_argmin(X, Y, chunk_size=4096)"
   ]
  },
  {
   "cell_type": "code",
   "execution_count": null,
   "id": "electoral-direction",
   "metadata": {},
   "outputs": [],
   "source": [
    "%timeit pairwise_argmin(X, Y, chunk_size=4096 * 2)"
   ]
  },
  {
   "cell_type": "code",
   "execution_count": null,
   "id": "conscious-fountain",
   "metadata": {},
   "outputs": [],
   "source": [
    "patch_sklearn()\n",
    "neigh = NearestNeighbors(n_neighbors=1, algorithm='brute').fit(Y)"
   ]
  },
  {
   "cell_type": "code",
   "execution_count": null,
   "id": "curious-scale",
   "metadata": {},
   "outputs": [],
   "source": [
    "%timeit neigh.kneighbors(X, return_distance=False)"
   ]
  },
  {
   "cell_type": "code",
   "execution_count": null,
   "id": "continental-comparative",
   "metadata": {},
   "outputs": [],
   "source": [
    "unpatch_sklearn()"
   ]
  },
  {
   "cell_type": "code",
   "execution_count": null,
   "id": "heard-double",
   "metadata": {},
   "outputs": [],
   "source": []
  }
 ],
 "metadata": {
  "kernelspec": {
   "display_name": "Python 3",
   "language": "python",
   "name": "python3"
  },
  "language_info": {
   "codemirror_mode": {
    "name": "ipython",
    "version": 3
   },
   "file_extension": ".py",
   "mimetype": "text/x-python",
   "name": "python",
   "nbconvert_exporter": "python",
   "pygments_lexer": "ipython3",
   "version": "3.8.5"
  }
 },
 "nbformat": 4,
 "nbformat_minor": 5
}
