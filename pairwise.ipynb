{
 "cells": [
  {
   "cell_type": "code",
   "execution_count": 2,
   "id": "difficult-confirmation",
   "metadata": {
    "scrolled": true
   },
   "outputs": [],
   "source": [
    "import pytest\n",
    "import numpy as np\n",
    "import itertools\n",
    "from matplotlib import pyplot as plt\n",
    "from sklearn.neighbors import NearestNeighbors\n",
    "from sklearnex import patch_sklearn\n",
    "\n",
    "plt.rcParams['figure.figsize'] = [12, 12]\n",
    "plt.rcParams['figure.dpi'] = 100"
   ]
  },
  {
   "cell_type": "code",
   "execution_count": 3,
   "id": "yellow-bottom",
   "metadata": {},
   "outputs": [],
   "source": [
    "%load_ext cython"
   ]
  },
  {
   "cell_type": "code",
   "execution_count": 19,
   "id": "settled-wallpaper",
   "metadata": {
    "scrolled": true
   },
   "outputs": [
    {
     "name": "stderr",
     "output_type": "stream",
     "text": [
      "\n",
      "Error compiling Cython file:\n",
      "------------------------------------------------------------\n",
      "...\n",
      "    cdef:\n",
      "        int[::1] Z_idx = np.zeros((X.shape[0],), dtype=int)\n",
      "        floating[::1] Z_r_dist = np.full((X.shape[0],), INF, dtype=float)\n",
      "        floating[::1] Y_sq_norms = np.einsum('ij,ij->i', Y, Y)\n",
      "    \n",
      "    _pairwise_argmin(X, Y, Y_sq_norms, Z_idx, Z_r_dist, chunk_size)\n",
      "                   ^\n",
      "------------------------------------------------------------\n",
      "\n",
      "/home/jsquared/.cache/ipython/cython/_cython_magic_e1fcb0783bb87b85180a79447b5590bb.pyx:139:20: no suitable method found\n",
      "\n",
      "Error compiling Cython file:\n",
      "------------------------------------------------------------\n",
      "...\n",
      "    cdef:\n",
      "        int[::1] Z_idx = np.zeros((X.shape[0],), dtype=int)\n",
      "        floating[::1] Z_r_dist = np.full((X.shape[0],), INF, dtype=float)\n",
      "        floating[::1] Y_sq_norms = np.einsum('ij,ij->i', Y, Y)\n",
      "    \n",
      "    _pairwise_argmin(X, Y, Y_sq_norms, Z_idx, Z_r_dist, chunk_size)\n",
      "                   ^\n",
      "------------------------------------------------------------\n",
      "\n",
      "/home/jsquared/.cache/ipython/cython/_cython_magic_e1fcb0783bb87b85180a79447b5590bb.pyx:139:20: no suitable method found\n",
      "\n",
      "Error compiling Cython file:\n",
      "------------------------------------------------------------\n",
      "...\n",
      "    cdef:\n",
      "        int[::1] Z_idx = np.zeros((X.shape[0],), dtype=int)\n",
      "        floating[::1] Z_r_dist = np.full((X.shape[0],), INF, dtype=float)\n",
      "        floating[::1] Y_sq_norms = np.einsum('ij,ij->i', Y, Y)\n",
      "    \n",
      "    _pairwise_argmin(X, Y, Y_sq_norms, Z_idx, Z_r_dist, chunk_size)\n",
      "   ^\n",
      "------------------------------------------------------------\n",
      "\n",
      "/home/jsquared/.cache/ipython/cython/_cython_magic_e1fcb0783bb87b85180a79447b5590bb.pyx:139:4: Invalid use of fused types, type cannot be specialized\n",
      "\n",
      "Error compiling Cython file:\n",
      "------------------------------------------------------------\n",
      "...\n",
      "    cdef:\n",
      "        int[::1] Z_idx = np.zeros((X.shape[0],), dtype=int)\n",
      "        floating[::1] Z_r_dist = np.full((X.shape[0],), INF, dtype=float)\n",
      "        floating[::1] Y_sq_norms = np.einsum('ij,ij->i', Y, Y)\n",
      "    \n",
      "    _pairwise_argmin(X, Y, Y_sq_norms, Z_idx, Z_r_dist, chunk_size)\n",
      "   ^\n",
      "------------------------------------------------------------\n",
      "\n",
      "/home/jsquared/.cache/ipython/cython/_cython_magic_e1fcb0783bb87b85180a79447b5590bb.pyx:139:4: Invalid use of fused types, type cannot be specialized\n"
     ]
    }
   ],
   "source": [
    "%%cython -f --compile-args=-fopenmp --link-args=-fopenmp --annotate\n",
    "# cython: profile=True, cdivision=True, boundscheck=False, wraparound=False\n",
    "import numpy as np\n",
    "cimport numpy as np\n",
    "from libc.stdlib cimport malloc, calloc, free\n",
    "from libc.stdio cimport printf\n",
    "from libc.math cimport sqrt\n",
    "from cython.parallel cimport prange, parallel\n",
    "from cython cimport floating, integral\n",
    "\n",
    "DEF CHUNK_SIZE = 256\n",
    "DEF N_THREADS = 4\n",
    "DEF DEBUG = False\n",
    "DEF INF = 1e19\n",
    "\n",
    "from sklearn.utils._cython_blas cimport _gemm, BLAS_Order, BLAS_Trans\n",
    "from sklearn.utils._cython_blas cimport ColMajor, RowMajor, Trans, NoTrans\n",
    "\n",
    "cdef inline floating r_euclidean_dist(\n",
    "    floating* x1,\n",
    "    floating* x2,\n",
    "    integral size,\n",
    ") nogil:\n",
    "    cdef floating d=0\n",
    "    cdef np.intp_t j\n",
    "    for j in range(size):\n",
    "        d += (x1[j] - x2[j]) * (x1[j] - x2[j])\n",
    "    return d\n",
    "\n",
    "    \n",
    "cdef inline integral _argmin_chunk(\n",
    "    floating[:, ::1] X_c,        # IN\n",
    "    floating[:, ::1] Y_c,        # IN\n",
    "    floating[::1] Y_sq_norms,    # IN\n",
    "    integral[::1] Z_c_idx,       # OUT  \n",
    "    floating[::1] Z_c_r_dist,    # OUT\n",
    "    floating *pairwise_distances,# OUT\n",
    "    integral idx_offset,\n",
    ") nogil:\n",
    "    cdef:\n",
    "        integral i, j\n",
    "        floating r_dist_j\n",
    "        \n",
    "    # Instead of computing the full pairwise squared distances matrix,\n",
    "    # ||X_c - Y_c||² = ||X_c||² - 2 X_c.Y_c^T + ||Y_c||², we only need\n",
    "    # to store the - 2 X_c.Y_c^T + ||Y_c||² term since the argmin\n",
    "    # for a given sample X_c^{i} does not depend on ||X_c^{i}||²\n",
    "    for i in range(X_c.shape[0]):\n",
    "        for j in range(Y_c.shape[0]):\n",
    "            pairwise_distances[i * Y_c.shape[0] + j] = Y_sq_norms[j]\n",
    "\n",
    "    # pairwise_distances += -2 * X_c.dot(Y_c.T)\n",
    "    _gemm(RowMajor, NoTrans, Trans, X_c.shape[0], Y_c.shape[0],\n",
    "          X_c.shape[1], -2.0, &X_c[0, 0], X_c.shape[1],\n",
    "          &Y_c[0, 0], X_c.shape[1], 1.0, pairwise_distances,\n",
    "          Y_c.shape[1])\n",
    "    \n",
    "    # Computing argmins here\n",
    "    for i in range(X_c.shape[0]):\n",
    "        for j in range(Y_c.shape[0]):\n",
    "            if pairwise_distances[i * Y_c.shape[0] + j] < Z_c_r_dist[i]:\n",
    "                Z_c_r_dist[i] = pairwise_distances[i * Y_c.shape[0] + j] \n",
    "                Z_c_idx[i] = j + idx_offset\n",
    "                \n",
    "                \n",
    "cdef integral _pairwise_argmin(\n",
    "    floating[:, ::1] X,              # IN\n",
    "    floating[:, ::1] Y,              # IN\n",
    "    floating[::1] Y_sq_norms,        # IN\n",
    "    integral[::1] Z_idx,             # OUT\n",
    "    floating[::1] Z_r_dist,          # OUT\n",
    "    integral chunk_size,\n",
    "\n",
    ") nogil:\n",
    "    cdef:\n",
    "        integral n_samples_chunk = chunk_size / X.shape[1]\n",
    "        \n",
    "        integral X_n_samples_chunk = min(X.shape[0], n_samples_chunk)\n",
    "        integral X_n_full_chunks = X.shape[0] // X_n_samples_chunk\n",
    "        integral X_n_samples_rem = X.shape[0] % X_n_samples_chunk\n",
    "\n",
    "        integral Y_n_samples_chunk = min(Y.shape[0], n_samples_chunk)\n",
    "        integral Y_n_full_chunks = Y.shape[0] / Y_n_samples_chunk\n",
    "        integral Y_n_samples_rem = Y.shape[0] % Y_n_samples_chunk\n",
    "        \n",
    "        # Counting remainder chunk in total number of chunks\n",
    "        integral X_n_chunks = X_n_full_chunks + (X.shape[0] != (X_n_full_chunks * X_n_samples_chunk))\n",
    "        integral Y_n_chunks = Y_n_full_chunks + (Y.shape[0] != (Y_n_full_chunks * Y_n_samples_chunk))\n",
    "        \n",
    "        integral n_chunks = X_n_chunks * Y_n_chunks\n",
    "        integral num_threads = min(n_chunks, N_THREADS)\n",
    "\n",
    "        integral idx\n",
    "        integral i_chunk = 0\n",
    "        \n",
    "        integral X_start, X_end, Y_start, Y_end\n",
    "        integral X_chunk_idx, Y_chunk_idx\n",
    "                \n",
    "        floating *argmins_r_dist\n",
    "    \n",
    "    with nogil, parallel(num_threads=num_threads):\n",
    "        argmins_r_dist = <floating*> malloc(Y_n_samples_chunk * X_n_samples_chunk * sizeof(int))\n",
    "    \n",
    "        for X_chunk_idx in prange(X_n_chunks, schedule='static'):\n",
    "            X_start = X_chunk_idx * X_n_samples_chunk\n",
    "            if X_chunk_idx == X_n_chunks - 1 and X_n_samples_rem > 0:\n",
    "                X_end = X_start + X_n_samples_rem\n",
    "            else:\n",
    "                X_end = X_start + X_n_samples_chunk\n",
    "\n",
    "            for Y_chunk_idx in range(Y_n_chunks):\n",
    "                Y_start = Y_chunk_idx * Y_n_samples_chunk\n",
    "                if Y_chunk_idx == Y_n_chunks - 1 and Y_n_samples_rem > 0:\n",
    "                    Y_end = Y_start + Y_n_samples_rem\n",
    "                else:\n",
    "                    Y_end = Y_start + Y_n_samples_chunk\n",
    "\n",
    "                _argmin_chunk(X[X_start:X_end, :],\n",
    "                              Y[Y_start:Y_end, :],\n",
    "                              Y_sq_norms[Y_start:Y_end],\n",
    "                              Z_idx[X_start:X_end],\n",
    "                              Z_r_dist[X_start:X_end],\n",
    "                              argmins_r_dist,\n",
    "                              Y_start)\n",
    "                \n",
    "        free(argmins_r_dist)\n",
    "        \n",
    "# Python-accessible interfaces\n",
    "        \n",
    "cpdef np.ndarray[int, ndim=2, mode='c'] pairwise_argmin(\n",
    "    np.ndarray[floating, ndim=2, mode='c'] X,\n",
    "    np.ndarray[floating, ndim=2, mode='c'] Y,\n",
    "    int chunk_size = CHUNK_SIZE,\n",
    "):\n",
    "    cdef:\n",
    "        int[::1] Z_idx = np.zeros((X.shape[0],), dtype=int)\n",
    "        floating[::1] Z_r_dist = np.full((X.shape[0],), INF, dtype=float)\n",
    "        floating[::1] Y_sq_norms = np.einsum('ij,ij->i', Y, Y)\n",
    "    \n",
    "    _pairwise_argmin(X, Y, Y_sq_norms, Z_idx, Z_r_dist, chunk_size)\n",
    "    \n",
    "    return np.asarray(Z_idx)"
   ]
  },
  {
   "cell_type": "code",
   "execution_count": null,
   "id": "tested-bargain",
   "metadata": {},
   "outputs": [],
   "source": []
  },
  {
   "cell_type": "markdown",
   "id": "comfortable-campus",
   "metadata": {},
   "source": [
    "### Visual screening for 2D"
   ]
  },
  {
   "cell_type": "code",
   "execution_count": null,
   "id": "characteristic-workstation",
   "metadata": {},
   "outputs": [],
   "source": [
    "Y = np.random.rand(int(200 * 2)).reshape((-1, 2))\n",
    "X = np.copy(Y[::2, :]) + 0.02"
   ]
  },
  {
   "cell_type": "code",
   "execution_count": null,
   "id": "registered-charlotte",
   "metadata": {},
   "outputs": [],
   "source": [
    "X.nbytes / 1e9, Y.nbytes /1e9"
   ]
  },
  {
   "cell_type": "code",
   "execution_count": null,
   "id": "quality-roller",
   "metadata": {},
   "outputs": [],
   "source": [
    "X.shape, Y.shape"
   ]
  },
  {
   "cell_type": "code",
   "execution_count": null,
   "id": "liquid-desktop",
   "metadata": {},
   "outputs": [],
   "source": [
    "argmins = pairwise_argmin(X,Y, chunk_size = 10)"
   ]
  },
  {
   "cell_type": "code",
   "execution_count": null,
   "id": "grave-meter",
   "metadata": {},
   "outputs": [],
   "source": [
    "argmins"
   ]
  },
  {
   "cell_type": "code",
   "execution_count": null,
   "id": "developmental-conviction",
   "metadata": {},
   "outputs": [],
   "source": [
    "argmins.shape"
   ]
  },
  {
   "cell_type": "code",
   "execution_count": null,
   "id": "incorporate-seven",
   "metadata": {},
   "outputs": [],
   "source": [
    "_ = plt.scatter(X[:,0], X[:,1])\n",
    "_ = plt.scatter(Y[:,0], Y[:,1])\n",
    "_ = plt.legend([\"X\", \"Y\"])\n",
    "\n",
    "for i, j in enumerate(argmins):\n",
    "     _ = plt.plot((X[i, 0], Y[j, 0]),\n",
    "             (X[i, 1], Y[j, 1]),\n",
    "             'g--', linewidth=0.5)\n",
    "    \n",
    "_ = plt.title(\"Argmin for X on Y\")\n",
    "\n",
    "plt.show()"
   ]
  },
  {
   "cell_type": "markdown",
   "id": "veterinary-championship",
   "metadata": {},
   "source": [
    "### Testing for correctness against scikit-learn"
   ]
  },
  {
   "cell_type": "code",
   "execution_count": null,
   "id": "recovered-ticket",
   "metadata": {},
   "outputs": [],
   "source": [
    "@pytest.mark.parametrise(\"n\", [10 ** i for i in [2, 3, 4]])\n",
    "@pytest.mark.parametrise(\"d\", [2, 5, 10, 100])\n",
    "def test_correctness(n, d):\n",
    "    Y = np.random.rand(int(n * d)).reshape((-1, d))\n",
    "    X = np.random.rand(int(n * d // 2)).reshape((-1, d))\n",
    "        \n",
    "    neigh = NearestNeighbors(n_neighbors=1, algorithm='brute')\n",
    "    neigh.fit(Y)\n",
    "    \n",
    "    argmins_sk = neigh.kneighbors(X, return_distance=False)\n",
    "    print(\"Done with neigh.kneighbors\")\n",
    "    argmins = pairwise_argmin(X, Y)\n",
    "    print(\"Done with pairwise_argmin\")\n",
    "\n",
    "    np.testing.assert_array_equal(argmins, np.ndarray.flatten(argmins_sk))\n"
   ]
  },
  {
   "cell_type": "code",
   "execution_count": null,
   "id": "complimentary-nature",
   "metadata": {
    "scrolled": false
   },
   "outputs": [],
   "source": [
    "for n, d in itertools.product([10 ** i for i in [2, 3, 4]], [2, 5, 10, 100]):\n",
    "    print(n, d)\n",
    "    test_correctness(n, d)"
   ]
  },
  {
   "cell_type": "markdown",
   "id": "attractive-intervention",
   "metadata": {},
   "source": [
    "### Comparison against scikit-learn"
   ]
  },
  {
   "cell_type": "code",
   "execution_count": null,
   "id": "polyphonic-cologne",
   "metadata": {},
   "outputs": [],
   "source": [
    "Y = np.random.rand(int(1e5)).reshape((-1, 100))\n",
    "X = np.copy(Y[::2, :]) + 0.02"
   ]
  },
  {
   "cell_type": "code",
   "execution_count": null,
   "id": "stable-quebec",
   "metadata": {},
   "outputs": [],
   "source": [
    "X.nbytes / 1e9, Y.nbytes /1e9"
   ]
  },
  {
   "cell_type": "code",
   "execution_count": null,
   "id": "practical-meaning",
   "metadata": {},
   "outputs": [],
   "source": [
    "X.shape, Y.shape"
   ]
  },
  {
   "cell_type": "code",
   "execution_count": null,
   "id": "greek-channels",
   "metadata": {},
   "outputs": [],
   "source": [
    "neigh = NearestNeighbors(n_neighbors=1, algorithm='brute').fit(Y)"
   ]
  },
  {
   "cell_type": "code",
   "execution_count": null,
   "id": "sharp-theory",
   "metadata": {},
   "outputs": [],
   "source": [
    "%timeit neigh.kneighbors(X, return_distance=False)"
   ]
  },
  {
   "cell_type": "code",
   "execution_count": null,
   "id": "speaking-library",
   "metadata": {},
   "outputs": [],
   "source": [
    "%timeit pairwise_argmin(X, Y, chunk_size=1024)"
   ]
  },
  {
   "cell_type": "code",
   "execution_count": null,
   "id": "conscious-fountain",
   "metadata": {},
   "outputs": [],
   "source": [
    "patch_sklearn()"
   ]
  },
  {
   "cell_type": "code",
   "execution_count": null,
   "id": "curious-scale",
   "metadata": {},
   "outputs": [],
   "source": [
    "%timeit neigh.kneighbors(X, return_distance=False)"
   ]
  },
  {
   "cell_type": "markdown",
   "id": "important-boating",
   "metadata": {},
   "source": [
    "### Experiments with chunks"
   ]
  },
  {
   "cell_type": "code",
   "execution_count": null,
   "id": "conscious-donna",
   "metadata": {},
   "outputs": [],
   "source": [
    "X_chunk = np.random.rand(50).reshape((-1, 2))\n",
    "Y_chunk = np.copy(X_chunk[::2]) + 0.02\n",
    "X_chunk.shape, Y_chunk.shape"
   ]
  },
  {
   "cell_type": "code",
   "execution_count": null,
   "id": "voluntary-statement",
   "metadata": {},
   "outputs": [],
   "source": [
    "argmins"
   ]
  },
  {
   "cell_type": "code",
   "execution_count": null,
   "id": "attended-brush",
   "metadata": {},
   "outputs": [],
   "source": [
    "argmins = pairwise_distance_chunk(X_chunk, Y_chunk)\n",
    "\n",
    "plt.scatter(X_chunk[:,0], X_chunk[:,1])\n",
    "plt.scatter(Y_chunk[:,0], Y_chunk[:,1])\n",
    "plt.legend([\"X_c\",\"Y_c\"])\n",
    "\n",
    "for i, j in enumerate(argmins):\n",
    "    plt.plot((X_chunk[i, 0], Y_chunk[j, 0]),\n",
    "             (X_chunk[i, 1], Y_chunk[j, 1]),\n",
    "             'g--', linewidth=1);\n",
    "    \n",
    "plt.title(\"Argmin for X_c on Y_c\")\n",
    "\n",
    "plt.show();"
   ]
  },
  {
   "cell_type": "code",
   "execution_count": null,
   "id": "banner-variance",
   "metadata": {},
   "outputs": [],
   "source": [
    "def create_dummy(dtype, working_memory, d=2):\n",
    "    f_size = {\n",
    "        np.float64: 8,\n",
    "        np.float32: 4,\n",
    "    }[dtype]\n",
    "    \n",
    "    i_size = 8\n",
    "        \n",
    "    n = working_memory // (2 * d * f_size + i_size)\n",
    "    \n",
    "    X = np.random.randn(n, d).astype(dtype)\n",
    "    Y = X + 0.05\n",
    "    return X, Y"
   ]
  },
  {
   "cell_type": "code",
   "execution_count": null,
   "id": "previous-limitation",
   "metadata": {},
   "outputs": [],
   "source": [
    "@pytest.mark.parametrise(\"dtype\", [np.float64])\n",
    "@pytest.mark.parametrise(\"working_memory\", [2 ** i for i in range(5, 12)])\n",
    "@pytest.mark.parametrise(\"d\", [2, 5, 10, 100])\n",
    "def test_pairwise_chunk_on_dummy(dtype, working_memory, d):\n",
    "    \n",
    "    X_chunk, Y_chunk = create_dummy(dtype, working_memory=working_memory, d=d)\n",
    "    \n",
    "    Z_chunk = pairwise_distance_chunk(X_chunk, Y_chunk)\n",
    "    \n",
    "    memory = (X_chunk.nbytes + Y_chunk.nbytes + Z_chunk.nbytes)\n",
    "    assert memory <= working_memory, (memory, working_memory)"
   ]
  },
  {
   "cell_type": "code",
   "execution_count": null,
   "id": "accepting-slovenia",
   "metadata": {},
   "outputs": [],
   "source": [
    "for dtype, working_memory, d in itertools.product([np.float64],\n",
    "                                              [2 ** i for i in range(5, 12)],\n",
    "                                              [2, 5, 10, 100]):\n",
    "    test_pairwise_chunk_on_dummy(dtype, working_memory, d)"
   ]
  },
  {
   "cell_type": "code",
   "execution_count": null,
   "id": "entertaining-lunch",
   "metadata": {},
   "outputs": [],
   "source": [
    "create_dummy(np.float64, 1024, d=50)[0].shape"
   ]
  }
 ],
 "metadata": {
  "kernelspec": {
   "display_name": "Python 3",
   "language": "python",
   "name": "python3"
  },
  "language_info": {
   "codemirror_mode": {
    "name": "ipython",
    "version": 3
   },
   "file_extension": ".py",
   "mimetype": "text/x-python",
   "name": "python",
   "nbconvert_exporter": "python",
   "pygments_lexer": "ipython3",
   "version": "3.8.5"
  }
 },
 "nbformat": 4,
 "nbformat_minor": 5
}
