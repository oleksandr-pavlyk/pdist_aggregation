{
 "cells": [
  {
   "cell_type": "code",
   "execution_count": 2,
   "id": "difficult-confirmation",
   "metadata": {
    "scrolled": true
   },
   "outputs": [],
   "source": [
    "import pytest\n",
    "import numpy as np\n",
    "import itertools\n",
    "from matplotlib import pyplot as plt\n",
    "from sklearn.neighbors import NearestNeighbors\n",
    "from sklearnex import patch_sklearn\n",
    "\n",
    "plt.rcParams['figure.figsize'] = [12, 12]\n",
    "plt.rcParams['figure.dpi'] = 100"
   ]
  },
  {
   "cell_type": "code",
   "execution_count": 3,
   "id": "yellow-bottom",
   "metadata": {},
   "outputs": [],
   "source": [
    "%load_ext cython"
   ]
  },
  {
   "cell_type": "code",
   "execution_count": 4,
   "id": "settled-wallpaper",
   "metadata": {
    "scrolled": false
   },
   "outputs": [
    {
     "name": "stderr",
     "output_type": "stream",
     "text": [
      "\n",
      "Error compiling Cython file:\n",
      "------------------------------------------------------------\n",
      "...\n",
      "\n",
      "cdef inline DTYPE_t r_euclidean_dist(\n",
      "    const DTYPE_t* x1,\n",
      "    const DTYPE_t* x2,\n",
      "    ITYPE_t size,\n",
      ") nogil except -1:\n",
      "               ^\n",
      "------------------------------------------------------------\n",
      "\n",
      "/home/jsquared/.cache/ipython/cython/_cython_magic_9f7da8f0f89fec08d81bf2bc9f6813f5.pyx:91:16: Cannot coerce to a type that is not specialized\n",
      "\n",
      "Error compiling Cython file:\n",
      "------------------------------------------------------------\n",
      "...\n",
      "            \n",
      "    return am\n",
      "\n",
      "    \n",
      "cdef inline int _argmin_chunk(\n",
      "    const DTYPE_t[:, ::1] X_c,        # IN\n",
      "                 ^\n",
      "------------------------------------------------------------\n",
      "\n",
      "/home/jsquared/.cache/ipython/cython/_cython_magic_9f7da8f0f89fec08d81bf2bc9f6813f5.pyx:132:18: Compiler crash in AnalyseDeclarationsTransform\n",
      "\n",
      "File 'ModuleNode.py', line 124, in analyse_declarations: ModuleNode(_cython_magic_9f7da8f0f89fec08d81bf2bc9f6813f5.pyx:1:0,\n",
      "    full_module_name = '_cython_magic_9f7da8f0f89fec08d81bf2bc9f6813f5')\n",
      "File 'Nodes.py', line 431, in analyse_declarations: StatListNode(_cython_magic_9f7da8f0f89fec08d81bf2bc9f6813f5.pyx:2:0)\n",
      "File 'Nodes.py', line 431, in analyse_declarations: StatListNode(_cython_magic_9f7da8f0f89fec08d81bf2bc9f6813f5.pyx:131:5)\n",
      "File 'Nodes.py', line 2359, in analyse_declarations: CFuncDefNode(_cython_magic_9f7da8f0f89fec08d81bf2bc9f6813f5.pyx:131:5,\n",
      "    modifiers = [...]/1,\n",
      "    visibility = 'private')\n",
      "File 'Nodes.py', line 681, in analyse: CFuncDeclaratorNode(_cython_magic_9f7da8f0f89fec08d81bf2bc9f6813f5.pyx:131:29,\n",
      "    calling_convention = '',\n",
      "    nogil = 1)\n",
      "File 'Nodes.py', line 891, in analyse: CArgDeclNode(_cython_magic_9f7da8f0f89fec08d81bf2bc9f6813f5.pyx:132:4,\n",
      "    is_generic = 1,\n",
      "    outer_attrs = [...]/2)\n",
      "File 'Nodes.py', line 1093, in analyse: MemoryViewSliceTypeNode(_cython_magic_9f7da8f0f89fec08d81bf2bc9f6813f5.pyx:132:18,\n",
      "    is_arg = True,\n",
      "    name = 'memoryview')\n",
      "\n",
      "Compiler crash traceback from this point on:\n",
      "  File \"/home/jsquared/.virtualenvs/cython/lib/python3.8/site-packages/Cython/Compiler/Nodes.py\", line 1093, in analyse\n",
      "    self.type = PyrexTypes.MemoryViewSliceType(base_type, axes_specs)\n",
      "  File \"/home/jsquared/.virtualenvs/cython/lib/python3.8/site-packages/Cython/Compiler/PyrexTypes.py\", line 625, in __init__\n",
      "    self.dtype_name = Buffer.mangle_dtype_name(self.dtype)\n",
      "  File \"/home/jsquared/.virtualenvs/cython/lib/python3.8/site-packages/Cython/Compiler/Buffer.py\", line 631, in mangle_dtype_name\n",
      "    return prefix + dtype.specialization_name()\n",
      "  File \"/home/jsquared/.virtualenvs/cython/lib/python3.8/site-packages/Cython/Compiler/PyrexTypes.py\", line 57, in specialization_name\n",
      "    common_subs = (self.empty_declaration_code()\n",
      "  File \"/home/jsquared/.virtualenvs/cython/lib/python3.8/site-packages/Cython/Compiler/PyrexTypes.py\", line 51, in empty_declaration_code\n",
      "    self._empty_declaration = self.declaration_code('')\n",
      "  File \"/home/jsquared/.virtualenvs/cython/lib/python3.8/site-packages/Cython/Compiler/PyrexTypes.py\", line 1582, in declaration_code\n",
      "    return self.const_base_type.declaration_code(\"const %s\" % entity_code, for_display, dll_linkage, pyrex)\n",
      "  File \"/home/jsquared/.virtualenvs/cython/lib/python3.8/site-packages/Cython/Compiler/PyrexTypes.py\", line 1649, in declaration_code\n",
      "    raise Exception(\"This may never happen, please report a bug\")\n",
      "Exception: This may never happen, please report a bug\n"
     ]
    }
   ],
   "source": [
    "%%cython -f --compile-args=-fopenmp --link-args=-fopenmp --annotate\n",
    "# cython: profile=True, cdivision=True, boundscheck=False, wraparound=False\n",
    "import numpy as np\n",
    "cimport numpy as np\n",
    "from libc.stdlib cimport malloc, calloc, free\n",
    "from libc.stdio cimport printf\n",
    "from libc.math cimport sqrt\n",
    "from cython.parallel cimport prange, parallel\n",
    "\n",
    "from cython cimport floating, integral\n",
    "DTYPE = float \n",
    "ITYPE = int\n",
    "\n",
    "ctypedef integral ITYPE_t\n",
    "ctypedef floating DTYPE_t\n",
    "\n",
    "# Definition of a type for reduction function\n",
    "# returning an integer\n",
    "ctypedef ITYPE_t (*F_TYPE_t)(DTYPE_t*, ITYPE_t) nogil\n",
    "DEF CHUNK_SIZE = 256\n",
    "DEF N_THREADS = 4\n",
    "DEF DEBUG = False\n",
    "DEF INF = 1e19\n",
    "\n",
    "####\n",
    "# \n",
    "# Taken from sklearn.utils._cython_blas\n",
    "\n",
    "cpdef enum BLAS_Order:\n",
    "    RowMajor  # C contiguous\n",
    "    ColMajor  # Fortran contiguous\n",
    "\n",
    "\n",
    "cpdef enum BLAS_Trans:\n",
    "    NoTrans = 110  # correspond to 'n'\n",
    "    Trans = 116    # correspond to 't'\n",
    "\n",
    "\n",
    "from scipy.linalg.cython_blas cimport sgemm, dgemm\n",
    "\n",
    "\n",
    "################\n",
    "# BLAS Level 3 #\n",
    "################\n",
    "\n",
    "cdef void _gemm(BLAS_Order order, BLAS_Trans ta, BLAS_Trans tb,\n",
    "                ITYPE_t m, ITYPE_t n, ITYPE_t k, DTYPE_t alpha,\n",
    "                DTYPE_t *A, ITYPE_t lda, DTYPE_t *B, ITYPE_t ldb,\n",
    "                DTYPE_t beta, DTYPE_t *C, ITYPE_t ldc) nogil:\n",
    "    \"\"\"C := alpha * op(A).op(B) + beta * C\"\"\"\n",
    "    cdef:\n",
    "        char ta_ = ta\n",
    "        char tb_ = tb\n",
    "    if order == RowMajor:\n",
    "        dgemm(&tb_, &ta_, &n, &m, &k, &alpha, B,\n",
    "              &ldb, A, &lda, &beta, C, &ldc)\n",
    "    else:\n",
    "        dgemm(&ta_, &tb_, &m, &n, &k, &alpha, A,\n",
    "              &lda, B, &ldb, &beta, C, &ldc)\n",
    "\n",
    "\n",
    "cpdef _gemm_memview(BLAS_Trans ta, BLAS_Trans tb, DTYPE_t alpha,\n",
    "                    DTYPE_t[:, :] A, DTYPE_t[:, :] B, DTYPE_t beta,\n",
    "                    DTYPE_t[:, :] C):\n",
    "    cdef:\n",
    "        ITYPE_t m = A.shape[0] if ta == NoTrans else A.shape[1]\n",
    "        ITYPE_t n = B.shape[1] if tb == NoTrans else B.shape[0]\n",
    "        ITYPE_t k = A.shape[1] if ta == NoTrans else A.shape[0]\n",
    "        ITYPE_t lda, ldb, ldc\n",
    "        BLAS_Order order = ColMajor if A.strides[0] == A.itemsize else RowMajor\n",
    "\n",
    "    if order == RowMajor:\n",
    "        lda = k if ta == NoTrans else m\n",
    "        ldb = n if tb == NoTrans else k\n",
    "        ldc = n\n",
    "    else:\n",
    "        lda = m if ta == NoTrans else k\n",
    "        ldb = k if tb == NoTrans else n\n",
    "        ldc = m\n",
    "\n",
    "    _gemm(order, ta, tb, m, n, k, alpha, &A[0, 0],\n",
    "          lda, &B[0, 0], ldb, beta, &C[0, 0], ldc)\n",
    "\n",
    "###\n",
    "\n",
    "\n",
    "\n",
    "cdef inline DTYPE_t r_euclidean_dist(\n",
    "    const DTYPE_t* x1,\n",
    "    const DTYPE_t* x2,\n",
    "    ITYPE_t size,\n",
    ") nogil except -1:\n",
    "    cdef DTYPE_t d=0\n",
    "    cdef np.intp_t j\n",
    "    for j in range(size):\n",
    "        d += (x1[j] - x2[j]) * (x1[j] - x2[j])\n",
    "    return d\n",
    "\n",
    "cdef inline ITYPE_t argmin(\n",
    "    DTYPE_t* dist,\n",
    "    ITYPE_t length,\n",
    ") nogil:\n",
    "    cdef:\n",
    "        ITYPE_t am = 0\n",
    "        DTYPE_t dist_min = dist[0]\n",
    "        ITYPE_t i\n",
    "    \n",
    "    for i in range(1, length):\n",
    "        if dist[i] < dist_min:\n",
    "            dist_min = dist[i]\n",
    "            am = i\n",
    "            \n",
    "    return am\n",
    "\n",
    "cdef inline ITYPE_t argmax(\n",
    "    DTYPE_t* dist,\n",
    "    ITYPE_t length,\n",
    ") nogil:\n",
    "    cdef:\n",
    "        ITYPE_t am = 0\n",
    "        DTYPE_t dist_max = dist[0]\n",
    "        ITYPE_t i\n",
    "    \n",
    "    for i in range(1, length):\n",
    "        if dist[i] > dist_max:\n",
    "            dist_max = dist[i]\n",
    "            am = i\n",
    "            \n",
    "    return am\n",
    "\n",
    "    \n",
    "cdef inline int _argmin_chunk(\n",
    "    const DTYPE_t[:, ::1] X_c,        # IN\n",
    "    const DTYPE_t[:, ::1] Y_c,        # IN\n",
    "    const DTYPE_t[::1] Y_sq_norms,    # IN\n",
    "    ITYPE_t[::1] Z_c_idx,             # OUT  \n",
    "    DTYPE_t[::1] Z_c_r_dist,          # OUT\n",
    "    DTYPE_t *pairwise_distances,      # OUT\n",
    "    ITYPE_t idx_offset,\n",
    ") nogil except -1:\n",
    "    cdef:\n",
    "        ITYPE_t i, j\n",
    "        DTYPE_t r_dist_j\n",
    "        \n",
    "    # Instead of computing the full pairwise squared distances matrix,\n",
    "    # ||X_c - Y_c||² = ||X_c||² - 2 X_c.Y_c^T + ||Y_c||², we only need\n",
    "    # to store the - 2 X_c.Y_c^T + ||Y_c||² term since the argmin\n",
    "    # for a given sample X_c^{i} does not depend on ||X_c^{i}||²\n",
    "    for i in range(X_c.shape[0]):\n",
    "        for j in range(Y_c.shape[0]):\n",
    "            pairwise_distances[i * Y_c.shape[0] + j] = Y_sq_norms[j]\n",
    "\n",
    "    # pairwise_distances += -2 * X_c.dot(Y_c.T)\n",
    "    _gemm(RowMajor, NoTrans, Trans, X_c.shape[0], Y_c.shape[0],\n",
    "          X_c.shape[1], -2.0, &X_c[0, 0], X_c.shape[1],\n",
    "          &Y_c[0, 0], X_c.shape[1], 1.0, pairwise_distances,\n",
    "          Y_c.shape[1])\n",
    "    \n",
    "    # Computing argmins here\n",
    "    for i in range(X_c.shape[0]):\n",
    "        for j in range(Y_c.shape[0]):\n",
    "            if pairwise_distances[i * Y_c.shape[0] + j] < Z_c_r_dist[i]:\n",
    "                Z_c_r_dist[i] = pairwise_distances[i * Y_c.shape[0] + j] \n",
    "                Z_c_idx[i] = j + idx_offset\n",
    "                \n",
    "                \n",
    "cdef int _pairwise_argmin(\n",
    "    const DTYPE_t[:, ::1] X,              # IN\n",
    "    const DTYPE_t[:, ::1] Y,              # IN\n",
    "    const DTYPE_t[::1] Y_squared_norms,   # IN\n",
    "    ITYPE_t[::1] Z_idx,                   # OUT\n",
    "    DTYPE_t[::1] Z_r_dist,                # OUT\n",
    "    ITYPE_t chunk_size,\n",
    "\n",
    ") nogil except -1:\n",
    "    cdef:\n",
    "        ITYPE_t n_samples_chunk = chunk_size / X.shape[1]\n",
    "        \n",
    "        ITYPE_t X_n_samples_chunk = min(X.shape[0], n_samples_chunk)\n",
    "        ITYPE_t X_n_full_chunks = X.shape[0] // X_n_samples_chunk\n",
    "        ITYPE_t X_n_samples_rem = X.shape[0] % X_n_samples_chunk\n",
    "\n",
    "        ITYPE_t Y_n_samples_chunk = min(Y.shape[0], n_samples_chunk)\n",
    "        ITYPE_t Y_n_full_chunks = Y.shape[0] / Y_n_samples_chunk\n",
    "        ITYPE_t Y_n_samples_rem = Y.shape[0] % Y_n_samples_chunk\n",
    "        \n",
    "        # Counting remainder chunk in total number of chunks\n",
    "        ITYPE_t X_n_chunks = X_n_full_chunks + (X.shape[0] != (X_n_full_chunks * X_n_samples_chunk))\n",
    "        ITYPE_t Y_n_chunks = Y_n_full_chunks + (Y.shape[0] != (Y_n_full_chunks * Y_n_samples_chunk))\n",
    "        \n",
    "        ITYPE_t n_chunks = X_n_chunks * Y_n_chunks\n",
    "        ITYPE_t num_threads = min(n_chunks, N_THREADS)\n",
    "\n",
    "        ITYPE_t idx\n",
    "        ITYPE_t i_chunk = 0\n",
    "        \n",
    "        ITYPE_t X_start, X_end, Y_start, Y_end\n",
    "        ITYPE_t X_chunk_idx, Y_chunk_idx\n",
    "                \n",
    "        DTYPE_t *pairwise_distances_chunk\n",
    "\n",
    "    if DEBUG:\n",
    "        printf(\"Using %d chunk pairs\\nUsing %d threads\", n_chunks, num_threads)\n",
    "    \n",
    "    with nogil, parallel(num_threads=num_threads):\n",
    "        argmins_r_dist = <DTYPE_t*> malloc(Y_n_samples_chunk * X_n_samples_chunk * sizeof(int))\n",
    "    \n",
    "        for X_chunk_idx in prange(X_n_chunks, schedule='static'):\n",
    "        # for X_chunk_idx in range(X_n_chunks):\n",
    "            X_start = X_chunk_idx * X_n_samples_chunk\n",
    "            if X_chunk_idx == X_n_chunks - 1 and X_n_samples_rem > 0:\n",
    "                X_end = X_start + X_n_samples_rem\n",
    "            else:\n",
    "                X_end = X_start + X_n_samples_chunk\n",
    "\n",
    "            for Y_chunk_idx in range(Y_n_chunks):\n",
    "                Y_start = Y_chunk_idx * Y_n_samples_chunk\n",
    "                if Y_chunk_idx == Y_n_chunks - 1 and Y_n_samples_rem > 0:\n",
    "                    Y_end = Y_start + Y_n_samples_rem\n",
    "                else:\n",
    "                    Y_end = Y_start + Y_n_samples_chunk\n",
    "\n",
    "                if DEBUG:\n",
    "                    printf(\"Chunk pair\\n\")\n",
    "                    printf(\"X[%d:%d, :]\\n\", X_start, X_end)\n",
    "                    printf(\"Y[%d:%d, :]\\n\", Y_start, Y_end)\n",
    "                    printf(\"\\n\")\n",
    "\n",
    "                _argmin_chunk(X[X_start:X_end, :],\n",
    "                              Y[Y_start:Y_end, :],\n",
    "                              Y_squared_norms[Y_start:Y_end],\n",
    "                              Z_idx[X_start:X_end],\n",
    "                              Z_r_dist[X_start:X_end],\n",
    "                              argmins_r_dist,\n",
    "                              Y_start)\n",
    "                \n",
    "        free(argmins_r_dist)\n",
    "\n",
    "    if DEBUG:\n",
    "        printf(\"Done cdef\\n\\n\")\n",
    "\n",
    "# Python-accessible interfaces\n",
    "        \n",
    "cpdef np.ndarray[ITYPE_t, ndim=2, mode='c'] pairwise_argmin(\n",
    "    np.ndarray[DTYPE_t, ndim=2, mode='c'] X,\n",
    "    np.ndarray[DTYPE_t, ndim=2, mode='c'] Y,\n",
    "    int chunk_size = CHUNK_SIZE,\n",
    "):\n",
    "    cdef:        \n",
    "        ITYPE_t[::1] Z_idx = np.zeros((X.shape[0],), dtype=ITYPE)\n",
    "        DTYPE_t[::1] Z_r_dist = np.full((X.shape[0],), INF, dtype=DTYPE)\n",
    "        DTYPE_t[::1] Y_squared_norms = np.einsum('ij,ij->i', Y, Y)\n",
    "    \n",
    "    _pairwise_argmin(X, Y, Y_squared_norms, Z_idx, Z_r_dist, chunk_size)\n",
    "    \n",
    "    return np.asarray(Z_idx)"
   ]
  },
  {
   "cell_type": "markdown",
   "id": "comfortable-campus",
   "metadata": {},
   "source": [
    "### Visual screening for 2D"
   ]
  },
  {
   "cell_type": "code",
   "execution_count": 23,
   "id": "characteristic-workstation",
   "metadata": {},
   "outputs": [],
   "source": [
    "Y = np.random.rand(int(200 * 2)).reshape((-1, 2))\n",
    "X = np.copy(Y[::2, :]) + 0.02"
   ]
  },
  {
   "cell_type": "code",
   "execution_count": 24,
   "id": "registered-charlotte",
   "metadata": {},
   "outputs": [
    {
     "data": {
      "text/plain": [
       "(1.6e-06, 3.2e-06)"
      ]
     },
     "execution_count": 24,
     "metadata": {},
     "output_type": "execute_result"
    }
   ],
   "source": [
    "X.nbytes / 1e9, Y.nbytes /1e9"
   ]
  },
  {
   "cell_type": "code",
   "execution_count": 25,
   "id": "quality-roller",
   "metadata": {},
   "outputs": [
    {
     "data": {
      "text/plain": [
       "((100, 2), (200, 2))"
      ]
     },
     "execution_count": 25,
     "metadata": {},
     "output_type": "execute_result"
    }
   ],
   "source": [
    "X.shape, Y.shape"
   ]
  },
  {
   "cell_type": "code",
   "execution_count": null,
   "id": "liquid-desktop",
   "metadata": {},
   "outputs": [],
   "source": [
    "argmins = pairwise_argmin(X,Y, chunk_size = 10)"
   ]
  },
  {
   "cell_type": "code",
   "execution_count": null,
   "id": "grave-meter",
   "metadata": {},
   "outputs": [],
   "source": [
    "argmins"
   ]
  },
  {
   "cell_type": "code",
   "execution_count": null,
   "id": "developmental-conviction",
   "metadata": {},
   "outputs": [],
   "source": [
    "argmins.shape"
   ]
  },
  {
   "cell_type": "code",
   "execution_count": null,
   "id": "incorporate-seven",
   "metadata": {},
   "outputs": [],
   "source": [
    "_ = plt.scatter(X[:,0], X[:,1])\n",
    "_ = plt.scatter(Y[:,0], Y[:,1])\n",
    "_ = plt.legend([\"X\", \"Y\"])\n",
    "\n",
    "for i, j in enumerate(argmins):\n",
    "     _ = plt.plot((X[i, 0], Y[j, 0]),\n",
    "             (X[i, 1], Y[j, 1]),\n",
    "             'g--', linewidth=0.5)\n",
    "    \n",
    "_ = plt.title(\"Argmin for X on Y\")\n",
    "\n",
    "plt.show()"
   ]
  },
  {
   "cell_type": "markdown",
   "id": "veterinary-championship",
   "metadata": {},
   "source": [
    "### Testing for correctness against scikit-learn"
   ]
  },
  {
   "cell_type": "code",
   "execution_count": null,
   "id": "recovered-ticket",
   "metadata": {},
   "outputs": [],
   "source": [
    "@pytest.mark.parametrise(\"n\", [10 ** i for i in [2, 3, 4]])\n",
    "@pytest.mark.parametrise(\"d\", [2, 5, 10, 100])\n",
    "def test_correctness(n, d):\n",
    "    Y = np.random.rand(int(n * d)).reshape((-1, d))\n",
    "    X = np.random.rand(int(n * d // 2)).reshape((-1, d))\n",
    "        \n",
    "    neigh = NearestNeighbors(n_neighbors=1, algorithm='brute')\n",
    "    neigh.fit(Y)\n",
    "    \n",
    "    argmins_sk = neigh.kneighbors(X, return_distance=False)\n",
    "    print(\"Done with neigh.kneighbors\")\n",
    "    argmins = pairwise_argmin(X, Y)\n",
    "    print(\"Done with pairwise_argmin\")\n",
    "\n",
    "    np.testing.assert_array_equal(argmins, np.ndarray.flatten(argmins_sk))\n"
   ]
  },
  {
   "cell_type": "code",
   "execution_count": null,
   "id": "complimentary-nature",
   "metadata": {
    "scrolled": false
   },
   "outputs": [],
   "source": [
    "for n, d in itertools.product([10 ** i for i in [2, 3, 4]], [2, 5, 10, 100]):\n",
    "    print(n, d)\n",
    "    test_correctness(n, d)"
   ]
  },
  {
   "cell_type": "markdown",
   "id": "attractive-intervention",
   "metadata": {},
   "source": [
    "### Comparison against scikit-learn"
   ]
  },
  {
   "cell_type": "code",
   "execution_count": null,
   "id": "polyphonic-cologne",
   "metadata": {},
   "outputs": [],
   "source": [
    "Y = np.random.rand(int(1e5)).reshape((-1, 100))\n",
    "X = np.copy(Y[::2, :]) + 0.02"
   ]
  },
  {
   "cell_type": "code",
   "execution_count": null,
   "id": "stable-quebec",
   "metadata": {},
   "outputs": [],
   "source": [
    "X.nbytes / 1e9, Y.nbytes /1e9"
   ]
  },
  {
   "cell_type": "code",
   "execution_count": null,
   "id": "practical-meaning",
   "metadata": {},
   "outputs": [],
   "source": [
    "X.shape, Y.shape"
   ]
  },
  {
   "cell_type": "code",
   "execution_count": null,
   "id": "greek-channels",
   "metadata": {},
   "outputs": [],
   "source": [
    "neigh = NearestNeighbors(n_neighbors=1, algorithm='brute').fit(Y)"
   ]
  },
  {
   "cell_type": "code",
   "execution_count": null,
   "id": "sharp-theory",
   "metadata": {},
   "outputs": [],
   "source": [
    "%timeit neigh.kneighbors(X, return_distance=False)"
   ]
  },
  {
   "cell_type": "code",
   "execution_count": null,
   "id": "speaking-library",
   "metadata": {},
   "outputs": [],
   "source": [
    "%timeit pairwise_argmin(X, Y, chunk_size=1024)"
   ]
  },
  {
   "cell_type": "code",
   "execution_count": null,
   "id": "conscious-fountain",
   "metadata": {},
   "outputs": [],
   "source": [
    "patch_sklearn()"
   ]
  },
  {
   "cell_type": "code",
   "execution_count": null,
   "id": "curious-scale",
   "metadata": {},
   "outputs": [],
   "source": [
    "%timeit neigh.kneighbors(X, return_distance=False)"
   ]
  },
  {
   "cell_type": "markdown",
   "id": "important-boating",
   "metadata": {},
   "source": [
    "### Experiments with chunks"
   ]
  },
  {
   "cell_type": "code",
   "execution_count": null,
   "id": "conscious-donna",
   "metadata": {},
   "outputs": [],
   "source": [
    "X_chunk = np.random.rand(50).reshape((-1, 2))\n",
    "Y_chunk = np.copy(X_chunk[::2]) + 0.02\n",
    "X_chunk.shape, Y_chunk.shape"
   ]
  },
  {
   "cell_type": "code",
   "execution_count": null,
   "id": "voluntary-statement",
   "metadata": {},
   "outputs": [],
   "source": [
    "argmins"
   ]
  },
  {
   "cell_type": "code",
   "execution_count": null,
   "id": "attended-brush",
   "metadata": {},
   "outputs": [],
   "source": [
    "argmins = pairwise_distance_chunk(X_chunk, Y_chunk)\n",
    "\n",
    "plt.scatter(X_chunk[:,0], X_chunk[:,1])\n",
    "plt.scatter(Y_chunk[:,0], Y_chunk[:,1])\n",
    "plt.legend([\"X_c\",\"Y_c\"])\n",
    "\n",
    "for i, j in enumerate(argmins):\n",
    "    plt.plot((X_chunk[i, 0], Y_chunk[j, 0]),\n",
    "             (X_chunk[i, 1], Y_chunk[j, 1]),\n",
    "             'g--', linewidth=1);\n",
    "    \n",
    "plt.title(\"Argmin for X_c on Y_c\")\n",
    "\n",
    "plt.show();"
   ]
  },
  {
   "cell_type": "code",
   "execution_count": null,
   "id": "banner-variance",
   "metadata": {},
   "outputs": [],
   "source": [
    "def create_dummy(dtype, working_memory, d=2):\n",
    "    f_size = {\n",
    "        np.float64: 8,\n",
    "        np.float32: 4,\n",
    "    }[dtype]\n",
    "    \n",
    "    i_size = 8\n",
    "        \n",
    "    n = working_memory // (2 * d * f_size + i_size)\n",
    "    \n",
    "    X = np.random.randn(n, d).astype(dtype)\n",
    "    Y = X + 0.05\n",
    "    return X, Y"
   ]
  },
  {
   "cell_type": "code",
   "execution_count": null,
   "id": "previous-limitation",
   "metadata": {},
   "outputs": [],
   "source": [
    "@pytest.mark.parametrise(\"dtype\", [np.float64])\n",
    "@pytest.mark.parametrise(\"working_memory\", [2 ** i for i in range(5, 12)])\n",
    "@pytest.mark.parametrise(\"d\", [2, 5, 10, 100])\n",
    "def test_pairwise_chunk_on_dummy(dtype, working_memory, d):\n",
    "    \n",
    "    X_chunk, Y_chunk = create_dummy(dtype, working_memory=working_memory, d=d)\n",
    "    \n",
    "    Z_chunk = pairwise_distance_chunk(X_chunk, Y_chunk)\n",
    "    \n",
    "    memory = (X_chunk.nbytes + Y_chunk.nbytes + Z_chunk.nbytes)\n",
    "    assert memory <= working_memory, (memory, working_memory)"
   ]
  },
  {
   "cell_type": "code",
   "execution_count": null,
   "id": "accepting-slovenia",
   "metadata": {},
   "outputs": [],
   "source": [
    "for dtype, working_memory, d in itertools.product([np.float64],\n",
    "                                              [2 ** i for i in range(5, 12)],\n",
    "                                              [2, 5, 10, 100]):\n",
    "    test_pairwise_chunk_on_dummy(dtype, working_memory, d)"
   ]
  },
  {
   "cell_type": "code",
   "execution_count": null,
   "id": "entertaining-lunch",
   "metadata": {},
   "outputs": [],
   "source": [
    "create_dummy(np.float64, 1024, d=50)[0].shape"
   ]
  }
 ],
 "metadata": {
  "kernelspec": {
   "display_name": "Python 3",
   "language": "python",
   "name": "python3"
  },
  "language_info": {
   "codemirror_mode": {
    "name": "ipython",
    "version": 3
   },
   "file_extension": ".py",
   "mimetype": "text/x-python",
   "name": "python",
   "nbconvert_exporter": "python",
   "pygments_lexer": "ipython3",
   "version": "3.8.5"
  }
 },
 "nbformat": 4,
 "nbformat_minor": 5
}
