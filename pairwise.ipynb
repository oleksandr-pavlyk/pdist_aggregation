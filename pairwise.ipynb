{
 "cells": [
  {
   "cell_type": "code",
   "execution_count": 1,
   "id": "quantitative-piece",
   "metadata": {},
   "outputs": [],
   "source": [
    "import numpy as np"
   ]
  },
  {
   "cell_type": "code",
   "execution_count": 4,
   "id": "yellow-bottom",
   "metadata": {},
   "outputs": [],
   "source": [
    "%load_ext cython"
   ]
  },
  {
   "cell_type": "code",
   "execution_count": null,
   "id": "settled-wallpaper",
   "metadata": {},
   "outputs": [],
   "source": [
    "%%cython -f --compile-args=-fopenmp --link-args=-fopenmp\n",
    "# cython: profile=True, cdivision=True, boundscheck=False, wraparound=False\n",
    "from cython cimport floating\n",
    "\n",
    "DEF CHUNK_SIZE 256\n",
    "\n",
    "# TODO make it adaptive\n",
    "DEF N_THREADS 4\n",
    "\n",
    "def _pairwise_distance(\n",
    "    np.ndarray[floating, ndim=2, mode='c'] X,\n",
    "    np.ndarray[floating, ndim=2, mode='c'] Y,\n",
    "    # TODO: introduce reduce_func\n",
    "    # TODO: introduce metric\n",
    "):\n",
    "    cdef:\n",
    "        int X_n = X.shape[0]\n",
    "        int X_n_features = X.shape[1]\n",
    "        \n",
    "        int X_n_samples = X_n * X_n_features\n",
    "        int X_n_samples_chunk = CHUNK_SIZE if X_n_samples > CHUNK_SIZE else X_n_samples\n",
    "        int X_n_chunks = X_n_samples // X_n_samples_chunk\n",
    "        int X_n_samples_rem = X_n_samples % X_n_samples_chunk\n",
    "        int X_chunk_idx, X_n_samples_chunk_eff\n",
    "        int X_start, X_end\n",
    "\n",
    "        int Y_n = Y.shape[0]\n",
    "        int Y_n_features = Y.shape[1]\n",
    "\n",
    "        int Y_n_samples = Y_n * Y_n_features\n",
    "        int Y_n_samples_chunk = CHUNK_SIZE if Y_n_features > CHUNK_SIZE else Y_n_samples\n",
    "        int Y_n_chunks = Y_n_features // Y_n_samples_chunk\n",
    "        int Y_n_samples_rem = Y_n_features % Y_n_samples_chunk\n",
    "        int Y_chunk_idx, Y_n_samples_chunk_eff\n",
    "        int Y_start, Y_end\n",
    "\n",
    "        int n_chunks = X_n_samples_chunk * Y_n_samples_chunk\n",
    "        int n_samples = X_n_samples * Y_n_samples\n",
    "        \n",
    "        floating *pairwise_distances_chunk\n",
    "        \n",
    "    # count remainder chunk in total number of chunks\n",
    "    X_n_chunks += (X_n_samples != (X_n_chunks * X_n_samples_chunk))\n",
    "    Y_n_chunks += (Y_n_samples != (Y_n_chunks * Y_n_samples_chunk))\n",
    "\n",
    "    # number of threads should not be bigger than number of chunks\n",
    "    n_threads = min(N_THREADS, n_chunks)\n",
    "\n",
    "    pairwise_distances = <floating*> malloc(n_samples * sizeof(floating))\n",
    "    \n",
    "    with nogil, parallel(num_threads=n_threads):\n",
    "        # thread local buffers\n",
    "        \n",
    "        for X_chunk_idx in prange(X_n_chunks, schedule='static'):\n",
    "            X_start = X_chunk_idx * X_n_samples_chunk\n",
    "            if X_chunk_idx == X_n_chunks - 1 and X_n_samples_rem > 0:\n",
    "                X_end = X_start + X_n_samples_rem\n",
    "            else:\n",
    "                X_end = X_start + X_n_samples_chunk\n",
    "                \n",
    "            for Y_chunk_idx in prange(Y_n_chunks, schedule='static'):\n",
    "                Y_start = chunk_idx * Y_n_samples_chunk\n",
    "                if Y_chunk_idx == Y_n_chunks - 1 and Y_n_samples_rem > 0:\n",
    "                    Y_end = Y_start + Y_n_samples_rem\n",
    "                else:\n",
    "                    Y_end = Y_start + Y_n_samples_chunk\n",
    "\n",
    "            # TODO: finish implementing\n",
    "            _pairwise_chunked(\n",
    "                &X[X_start, X_end],\n",
    "                &Y[Y_start: Y_end],\n",
    "                pairwise_distances + X_start * Y_n_samples + Y_start\n",
    "            )\n",
    "\n",
    "    "
   ]
  }
 ],
 "metadata": {
  "kernelspec": {
   "display_name": "Python 3",
   "language": "python",
   "name": "python3"
  },
  "language_info": {
   "codemirror_mode": {
    "name": "ipython",
    "version": 3
   },
   "file_extension": ".py",
   "mimetype": "text/x-python",
   "name": "python",
   "nbconvert_exporter": "python",
   "pygments_lexer": "ipython3",
   "version": "3.9.2"
  }
 },
 "nbformat": 4,
 "nbformat_minor": 5
}
